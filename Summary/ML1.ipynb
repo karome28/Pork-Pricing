{
 "cells": [
  {
   "cell_type": "code",
   "execution_count": 48,
   "id": "40707eb2",
   "metadata": {},
   "outputs": [
    {
     "data": {
      "text/plain": [
       "0     174.0\n",
       "1     166.0\n",
       "2     155.0\n",
       "3     141.0\n",
       "4     123.0\n",
       "5     118.0\n",
       "6     118.0\n",
       "7     127.0\n",
       "8     132.0\n",
       "9     132.0\n",
       "10    135.0\n",
       "11    138.0\n",
       "12    138.0\n",
       "13    147.0\n",
       "14    152.0\n",
       "15    157.0\n",
       "16    167.0\n",
       "17    169.0\n",
       "18    169.0\n",
       "Name: Price_kg, dtype: float64"
      ]
     },
     "execution_count": 48,
     "metadata": {},
     "output_type": "execute_result"
    }
   ],
   "source": [
    "import pandas as pd\n",
    "shoulder = pd.read_csv('sumshoulder.csv')\n",
    "X = shoulder[['halfpigprice','quota','Betagro','Mid Remainder']]\n",
    "y = shoulder['Price_kg']\n",
    "X1 = X.dropna()\n",
    "y1 = y.dropna()\n",
    "#from sklearn import linear_model\n",
    "#regr = linear_model.LinearRegression()\n",
    "#regr.fit(X1,y)\n",
    "X1\n",
    "y1 = y1.drop(labels=[19], axis=0)\n",
    "y1"
   ]
  },
  {
   "cell_type": "code",
   "execution_count": 49,
   "id": "538eb840",
   "metadata": {},
   "outputs": [
    {
     "name": "stdout",
     "output_type": "stream",
     "text": [
      "[177.71128376]\n"
     ]
    },
    {
     "name": "stderr",
     "output_type": "stream",
     "text": [
      "C:\\Users\\Pete\\anaconda3\\lib\\site-packages\\sklearn\\base.py:450: UserWarning: X does not have valid feature names, but LinearRegression was fitted with feature names\n",
      "  warnings.warn(\n"
     ]
    }
   ],
   "source": [
    "from sklearn import linear_model\n",
    "regr = linear_model.LinearRegression()\n",
    "regr.fit(X1,y1)\n",
    "predictedprice = regr.predict([[127,62748,164,2474]])\n",
    "print(predictedprice)\n"
   ]
  },
  {
   "cell_type": "code",
   "execution_count": 50,
   "id": "49d8182c",
   "metadata": {},
   "outputs": [
    {
     "name": "stdout",
     "output_type": "stream",
     "text": [
      "[1.20770517e+00 2.91703618e-05 2.68340341e-01 1.68414326e-03]\n"
     ]
    }
   ],
   "source": [
    "print(regr.coef_)"
   ]
  }
 ],
 "metadata": {
  "kernelspec": {
   "display_name": "Python 3 (ipykernel)",
   "language": "python",
   "name": "python3"
  },
  "language_info": {
   "codemirror_mode": {
    "name": "ipython",
    "version": 3
   },
   "file_extension": ".py",
   "mimetype": "text/x-python",
   "name": "python",
   "nbconvert_exporter": "python",
   "pygments_lexer": "ipython3",
   "version": "3.9.12"
  }
 },
 "nbformat": 4,
 "nbformat_minor": 5
}
